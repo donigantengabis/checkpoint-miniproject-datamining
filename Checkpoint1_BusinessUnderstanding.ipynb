{
  "nbformat": 4,
  "nbformat_minor": 0,
  "metadata": {
    "colab": {
      "provenance": [],
      "authorship_tag": "ABX9TyNf+9/L5Pbwt4wOK6PsPyym",
      "include_colab_link": true
    },
    "kernelspec": {
      "name": "python3",
      "display_name": "Python 3"
    },
    "language_info": {
      "name": "python"
    }
  },
  "cells": [
    {
      "cell_type": "markdown",
      "metadata": {
        "id": "view-in-github",
        "colab_type": "text"
      },
      "source": [
        "<a href=\"https://colab.research.google.com/github/donigantengabis/checkpoint-miniproject-datamining/blob/main/Checkpoint1_BusinessUnderstanding.ipynb\" target=\"_parent\"><img src=\"https://colab.research.google.com/assets/colab-badge.svg\" alt=\"Open In Colab\"/></a>"
      ]
    },
    {
      "cell_type": "markdown",
      "source": [
        "#**BUSINESS UNDERSTANDING**\n",
        "\n",
        "##**Business Objective**\n",
        "\n",
        "Tujuan utama dari proyek ini adalah untuk mengurangi tingkat churn (pelanggan yang meninggalkan layanan) di perusahaan telekomunikasi. Dengan memahami pola dan faktor yang menyebabkan pelanggan meninggalkan layanan, perusahaan dapat mengambil langkah-langkah proaktif untuk mempertahankan pelanggan yang ada dan mencegah churn di masa depan. Hal ini akan membantu meningkatkan retensi pelanggan, memperkuat pendapatan, dan membangun keunggulan kompetitif.\n",
        "\n",
        "##**Asses Situation**\n",
        "\n",
        "Saat ini, perusahaan menghadapi tingkat churn yang signifikan di antara pelanggan mereka. Hal ini dapat mengindikasikan masalah dalam pengalaman pelanggan, kualitas layanan, atau bahkan faktor eksternal seperti persaingan pasar. Analisis lebih lanjut diperlukan untuk memahami alasan di balik churn tersebut. Data internal perusahaan, seperti riwayat penggunaan layanan, profil pelanggan, dan interaksi pelanggan, mungkin akan menjadi sumber informasi utama.\n",
        "\n",
        "##**Data Mining Goals**\n",
        "\n",
        "1. Identifikasi Faktor Churn: Mengidentifikasi faktor-faktor yang paling berkontribusi terhadap churn, baik dari segi karakteristik pelanggan (misalnya, lama berlangganan, jenis paket, tingkat penggunaan) maupun pengalaman pelanggan (misalnya, keluhan, interaksi dengan layanan pelanggan).\n",
        "2. Pembuatan Model Prediktif: Membangun model prediktif yang dapat memperkirakan pelanggan mana yang memiliki risiko tinggi untuk churn di masa mendatang. Ini memungkinkan perusahaan untuk mengambil tindakan pencegahan secara proaktif.\n",
        "3. Segmentasi Pelanggan: Mengidentifikasi segmentasi pelanggan berdasarkan perilaku dan karakteristik mereka. Ini membantu dalam menyesuaikan strategi retensi yang lebih efektif untuk setiap kelompok pelanggan.\n",
        "4. Analisis Keseluruhan Perilaku Pelanggan: Menganalisis pola perilaku pelanggan sebelum mereka memutuskan untuk meninggalkan layanan, termasuk tren penggunaan layanan, frekuensi interaksi, dan tingkat kepuasan pelanggan.\n",
        "\n",
        "##**Project Plan**\n",
        "\n",
        "1. Data Collection: Mengumpulkan data historis pelanggan yang mencakup riwayat penggunaan layanan, profil pelanggan, interaksi pelanggan, dan data terkait lainnya.\n",
        "2. Data Preprocessing: Membersihkan data dari nilai-nilai yang hilang atau tidak valid, melakukan transformasi jika diperlukan, dan menyiapkan data untuk analisis lebih lanjut.\n",
        "3. Exploratory Data Analysis (EDA): Menganalisis data untuk mengidentifikasi pola, anomali, dan korelasi antara variabel. Ini akan membantu dalam pemahaman awal tentang faktor-faktor yang terkait dengan churn.\n",
        "4. Model Development: Mengembangkan model prediktif menggunakan teknik seperti regresi logistik, pohon keputusan, atau algoritma machine learning lainnya untuk memprediksi pelanggan yang berpotensi churn.\n",
        "5. Evaluation: Mengevaluasi kinerja model menggunakan metrik seperti akurasi, presisi, recall, dan F1-score. Memvalidasi model dengan menggunakan data yang tidak terlihat sebelumnya untuk menghindari overfitting.\n",
        "6. Segmentation Analysis: Menganalisis data untuk mengidentifikasi kelompok pelanggan yang berbeda berdasarkan perilaku dan karakteristik mereka.\n",
        "7. Actionable Insights: Menggunakan hasil analisis untuk merumuskan strategi retensi yang lebih efektif, seperti program loyalitas, penawaran khusus, atau perbaikan layanan.\n",
        "8. Monitoring and Optimization: Memantau efektivitas strategi retensi yang diimplementasikan dan melakukan penyesuaian jika diperlukan. Terus mengupdate model prediktif dengan data terbaru untuk menjaga relevansi dan kinerja."
      ],
      "metadata": {
        "id": "zws67aoKRldq"
      }
    }
  ]
}